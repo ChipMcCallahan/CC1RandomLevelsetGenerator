{
  "nbformat": 4,
  "nbformat_minor": 0,
  "metadata": {
    "colab": {
      "name": "[github] CC1RandomLevelsetGenerator.ipynb",
      "provenance": [],
      "collapsed_sections": [],
      "authorship_tag": "ABX9TyMHiIMsyKV0IciVOq5la8Hs",
      "include_colab_link": true
    },
    "kernelspec": {
      "name": "python3",
      "display_name": "Python 3"
    },
    "language_info": {
      "name": "python"
    }
  },
  "cells": [
    {
      "cell_type": "markdown",
      "metadata": {
        "id": "view-in-github",
        "colab_type": "text"
      },
      "source": [
        "<a href=\"https://colab.research.google.com/github/ChipMcCallahan/CC1RandomLevelsetGenerator/blob/main/CC1RandomLevelsetGenerator.ipynb\" target=\"_parent\"><img src=\"https://colab.research.google.com/assets/colab-badge.svg\" alt=\"Open In Colab\"/></a>"
      ]
    },
    {
      "cell_type": "markdown",
      "metadata": {
        "id": "3_RIBHpx12Ak"
      },
      "source": [
        "# CC1 Random Levelset Generator\n",
        "\n",
        "Import levelsets, keep or drop levels as desired, and generate a random levelset of arbitrary length from the pool."
      ]
    },
    {
      "cell_type": "code",
      "metadata": {
        "id": "selScsb9VK3Q"
      },
      "source": [
        "# install the module\n",
        "%%capture\n",
        "!pip install git+https://github.com/ChipMcCallahan/CC1RandomLevelsetGenerator"
      ],
      "execution_count": 1,
      "outputs": []
    },
    {
      "cell_type": "code",
      "metadata": {
        "id": "zpv7u-So8k93"
      },
      "source": [
        "# Hack to keep Colab from auto printing return values.\n",
        "from IPython.core.interactiveshell import InteractiveShell\n",
        "InteractiveShell.ast_node_interactivity = \"none\""
      ],
      "execution_count": 2,
      "outputs": []
    },
    {
      "cell_type": "markdown",
      "metadata": {
        "id": "FtLCNcU_9Exk"
      },
      "source": [
        "### Import sets from online\n",
        "\n",
        "Available sets are listed at  https://bitbusters.club/gliderbot/sets/cc1/"
      ]
    },
    {
      "cell_type": "code",
      "metadata": {
        "colab": {
          "base_uri": "https://localhost:8080/"
        },
        "id": "2L-ot9U2p-1H",
        "outputId": "0a87f3be-1b99-48a0-d32b-1127fab831ab"
      },
      "source": [
        "from cc1_random_levelset_generator.cc1_random_levelset_generator import CC1RandomLevelsetGenerator\n",
        "gen = CC1RandomLevelsetGenerator()\n",
        "\n",
        "# Import 4 official packs.\n",
        "gen.add_set(\"CCLP1.dat\")\n",
        "gen.add_set(\"CCLXP2.dat\")\n",
        "gen.add_set(\"CCLP3.dat\")\n",
        "gen.add_set(\"CCLP4.dat\")"
      ],
      "execution_count": 3,
      "outputs": [
        {
          "output_type": "stream",
          "text": [
            "Successfully retrieved https://bitbusters.club/gliderbot/sets/cc1/CCLP1.dat.\n",
            "Successfully retrieved https://storage.googleapis.com/file-hosting-abcdef/chips/CCLP1.ccx\n",
            "Successfully retrieved https://bitbusters.club/gliderbot/sets/cc1/CCLXP2.dat.\n",
            "Successfully retrieved https://storage.googleapis.com/file-hosting-abcdef/chips/CCLXP2.ccx\n",
            "Successfully retrieved https://bitbusters.club/gliderbot/sets/cc1/CCLP3.dat.\n",
            "Successfully retrieved https://storage.googleapis.com/file-hosting-abcdef/chips/CCLP3.ccx\n",
            "Successfully retrieved https://bitbusters.club/gliderbot/sets/cc1/CCLP4.dat.\n",
            "Successfully retrieved https://storage.googleapis.com/file-hosting-abcdef/chips/CCLP4.ccx\n"
          ],
          "name": "stdout"
        }
      ]
    },
    {
      "cell_type": "markdown",
      "metadata": {
        "id": "nsVvIrzM8kiP"
      },
      "source": [
        "Drop or keep levels."
      ]
    },
    {
      "cell_type": "code",
      "metadata": {
        "colab": {
          "base_uri": "https://localhost:8080/"
        },
        "id": "G9pRy2kOqstO",
        "outputId": "6fd5fb31-dc32-4b30-f74f-5161233c75b6"
      },
      "source": [
        "# drop a few levels by title from the combined pool\n",
        "DROP = [\"Blobs on a Plane\", \"Checkerboard I\", \"Suspended Animation\", \"The Longest Track\"]\n",
        "gen.drop(DROP)"
      ],
      "execution_count": 4,
      "outputs": [
        {
          "output_type": "stream",
          "text": [
            "Removed 1 levels: ['Blobs on a Plane'].\n",
            "Removed 1 levels: ['Suspended Animation'].\n",
            "Removed 1 levels: ['The Longest Track'].\n"
          ],
          "name": "stdout"
        }
      ]
    },
    {
      "cell_type": "code",
      "metadata": {
        "colab": {
          "base_uri": "https://localhost:8080/"
        },
        "id": "iqT-Jexb4WDR",
        "outputId": "2fd03d45-b7c8-4bcf-ac33-e5e5e60a8b87"
      },
      "source": [
        "# Oops, our request for \"Checkerboard I\" didn't go through.\n",
        "# Turns out it was renamed in CCLXP2 to \"Checkerboard I *\"\n",
        "# We can remove it by index from the original set since we know it is level 72.\n",
        "gen.get_set('CCLXP2.dat').drop(72)"
      ],
      "execution_count": 5,
      "outputs": [
        {
          "output_type": "stream",
          "text": [
            "Removed 1 levels: ['Checkerboard I *'].\n"
          ],
          "name": "stdout"
        }
      ]
    },
    {
      "cell_type": "code",
      "metadata": {
        "colab": {
          "base_uri": "https://localhost:8080/"
        },
        "id": "LaFpgCBJsScp",
        "outputId": "dad84850-b91b-4366-dfd1-776a82f33e06"
      },
      "source": [
        "# Actually while we're at it, drop all the Cypher levels:\n",
        "for lp in ('CCLP1.dat', 'CCLXP2.dat', 'CCLP3.dat', 'CCLP4.dat'):\n",
        "    gen.get_set(lp).drop(34)"
      ],
      "execution_count": 6,
      "outputs": [
        {
          "output_type": "stream",
          "text": [
            "Removed 1 levels: ['Just a Bunch of Letters'].\n",
            "Removed 1 levels: ['Cypher II LX'].\n",
            "Removed 1 levels: ['Motion Blur'].\n",
            "Removed 1 levels: ['Frozen Waffle'].\n"
          ],
          "name": "stdout"
        }
      ]
    },
    {
      "cell_type": "code",
      "metadata": {
        "colab": {
          "base_uri": "https://localhost:8080/"
        },
        "id": "gqUsjEEo-wyt",
        "outputId": "26d2f805-a691-46f7-de55-f27ee95f60a9"
      },
      "source": [
        "# Wait, I like 'Frozen Waffle'! Let's add it back\n",
        "gen.get_set('CCLP4.dat').add(34)"
      ],
      "execution_count": 7,
      "outputs": [
        {
          "output_type": "stream",
          "text": [
            "Added 1 levels.\n"
          ],
          "name": "stdout"
        }
      ]
    },
    {
      "cell_type": "code",
      "metadata": {
        "colab": {
          "base_uri": "https://localhost:8080/"
        },
        "id": "GhLAM4aB_k8g",
        "outputId": "fded8d34-2bbc-4d82-cba7-64f313cc72b6"
      },
      "source": [
        "# Hmm, CCLP3 gets pretty difficult. Let's keep only levels from the 10s and 20s.\n",
        "gen.get_set('CCLP3.dat').keep(range(10, 30))"
      ],
      "execution_count": 8,
      "outputs": [
        {
          "output_type": "stream",
          "text": [
            "Kept 20 levels: ['Annoying Wall', 'Blue Blocks', 'My Friend', 'Road Block', 'Window Shopping', 'Bumper', 'Two Sets of Rules', 'Lot in Life', 'Replay', 'Super Chip', 'Rock', 'Mud and Water', 'Damp', 'Map the Path', 'Impossible?', 'Recess', 'Spiral', 'Jumble', 'Pac Man', 'Tool Box']\n",
            "Removed 127 levels: ['Entrance Examination', 'Snakes and Ladders', 'A Walk in the Park', 'Suction Solution', 'Toggle Bust', 'Thieves and Teleports', 'Dancing Gliders', 'Pigeonholed', 'Redoubled Effort', 'Problem Solver', \"Bouncin' Blocks\", 'Pearl Diving', 'Vague Dream', 'MonsterMaze', \"Zelgon's Lair\", 'Blue Moon', 'Wireframe', 'Cheap Shots and Dirty Tricks', 'Blazes', 'Patchwork', 'Every Trick in the Book', \"Who's Left?\", 'Tiny Spirals', 'Block Head', 'Get a Clue', 'Flame Thrower', 'All About Buttons', 'All About Blocks', 'Once Upon a Troubadour', 'Dancing on Ice', 'Dolly Mixtures', 'Backtrack', 'Good Advice', 'Construct-a-Maze', 'Item Unlocker', 'Beachballs', 'Bowling', 'Air Pocket', 'Red, Green and Blue', 'Bump and Run', 'Go Back to Start', 'Pocket Puzzle', 'Producing', 'Countdown', 'The Aftermath', 'The Haunted House', 'Incident on a Bridge', 'Coal Mine', 'On the Coast', 'How to Get Around in Venice', 'Fireball Tourism', 'Take the I Train', 'Niche', 'Chip Alone: Lost in Chip City', 'Complex', 'Oh-Ho!', 'Slide Show', 'Clear the Way', 'Checkers', 'Possible', 'Mediterranean', 'Billiards', 'No End in Sight', 'Maginot Line', 'To Catch a Thief', 'Block and Key', 'Which One Next?', 'Replay II', 'Lichenstein', 'Olly Olly Oxen', 'Bolkonski', 'Shattered', 'Mistakes', 'Waste of Space', 'In the Limelight', 'Jumble II', 'Mouth-Watering', 'Freezer', 'Sardines', 'The Ghosts at the Massingham Mansion', 'Triple Alarm', 'Prison Break', 'Civilization of Creatures', 'Caves', 'Oil Rig', 'Lazy Hourglass', 'Magic Trick', 'Hidden Depths', 'Floating Plaza', \"Bustin' Out\", 'Pushy', 'Stress Fracture', 'Lead Us Not into Temptation', 'Triple Maze', 'Mini Challenges', 'Mice Are Good for Something', 'Obstacle Course', 'Elite', 'Twisted Chambers', 'Jaywalker', 'Manic Depression', 'Investment', 'Jumble III', 'Water Trap', 'Marooned', 'Beat the Heat', 'Divide and Conquer', 'Everybody Get Dangerous', 'Four by Four', 'Mental Blocks', 'Commit Suicide?', 'Think Tank', \"We'll Be Right Back\", 'Color Wheel', 'Grand Prix', 'Vulcan', 'Waterslide', 'Rotation', 'Yet Another Yet Another Puzzle', 'Bug Arranging', 'Mudpie', 'Same Game', \"You Can't Teach an Old Frog New Tricks\", 'Recurring Dream', 'Avalanche', 'Diabolical', 'Mr. McCallahan Presents'].\n"
          ],
          "name": "stdout"
        }
      ]
    },
    {
      "cell_type": "code",
      "metadata": {
        "colab": {
          "base_uri": "https://localhost:8080/"
        },
        "id": "Rj--WEu4tQ5D",
        "outputId": "effbbb1c-a772-4e77-8e07-893a65381149"
      },
      "source": [
        "# Alright, how many levels do we have to choose from?\n",
        "print(gen.count_eligible())"
      ],
      "execution_count": 9,
      "outputs": [
        {
          "output_type": "stream",
          "text": [
            "462\n"
          ],
          "name": "stdout"
        }
      ]
    },
    {
      "cell_type": "code",
      "metadata": {
        "colab": {
          "base_uri": "https://localhost:8080/"
        },
        "id": "Itk7_mZMCYb1",
        "outputId": "644a932e-fb24-4c6b-9fd5-0b0e27cc6793"
      },
      "source": [
        "# Great! Let's generate a 20-level random set.\n",
        "random_set = gen.generate_random_set(20)\n",
        "\n",
        "for level in random_set.levels:\n",
        "    print(f\"{level.number}: {level.title}\")"
      ],
      "execution_count": 10,
      "outputs": [
        {
          "output_type": "stream",
          "text": [
            "1: The Shifting Maze\n",
            "2: Klausswergner\n",
            "3: Sky High or Deep Down\n",
            "4: Present Company\n",
            "5: Spy\n",
            "6: Ice in a Blender\n",
            "7: California\n",
            "8: After the Rainstorm LX\n",
            "9: Tropical Hibiscus\n",
            "10: Frozen Waffle\n",
            "11: Big Boulder Alley\n",
            "12: Pyramid *\n",
            "13: Descending Ceiling\n",
            "14: Jumble\n",
            "15: Flames and Ashes\n",
            "16: Loose Pocket\n",
            "17: Spumoni\n",
            "18: Funfair\n",
            "19: Jigsee\n",
            "20: Estranged for a Season\n"
          ],
          "name": "stdout"
        }
      ]
    },
    {
      "cell_type": "code",
      "metadata": {
        "colab": {
          "base_uri": "https://localhost:8080/"
        },
        "id": "8eFBPa6etvex",
        "outputId": "6209fc6e-e447-4f2b-980d-21d2b74232b4"
      },
      "source": [
        "# Looks amazing! Let's write it to file now.\n",
        "gen.write(random_set, \"random_set.dat\")"
      ],
      "execution_count": 11,
      "outputs": [
        {
          "output_type": "stream",
          "text": [
            "Wrote set to file random_set.dat\n"
          ],
          "name": "stdout"
        }
      ]
    },
    {
      "cell_type": "code",
      "metadata": {
        "colab": {
          "base_uri": "https://localhost:8080/",
          "height": 17
        },
        "id": "90RMfvoauU6q",
        "outputId": "3c9d7b44-5727-4ad4-a51e-a6c22e2280cf"
      },
      "source": [
        "# Aaaaand download it from this colab\n",
        "from google.colab import files\n",
        "\n",
        "files.download('random_set.dat') "
      ],
      "execution_count": 13,
      "outputs": [
        {
          "output_type": "display_data",
          "data": {
            "application/javascript": [
              "\n",
              "    async function download(id, filename, size) {\n",
              "      if (!google.colab.kernel.accessAllowed) {\n",
              "        return;\n",
              "      }\n",
              "      const div = document.createElement('div');\n",
              "      const label = document.createElement('label');\n",
              "      label.textContent = `Downloading \"${filename}\": `;\n",
              "      div.appendChild(label);\n",
              "      const progress = document.createElement('progress');\n",
              "      progress.max = size;\n",
              "      div.appendChild(progress);\n",
              "      document.body.appendChild(div);\n",
              "\n",
              "      const buffers = [];\n",
              "      let downloaded = 0;\n",
              "\n",
              "      const channel = await google.colab.kernel.comms.open(id);\n",
              "      // Send a message to notify the kernel that we're ready.\n",
              "      channel.send({})\n",
              "\n",
              "      for await (const message of channel.messages) {\n",
              "        // Send a message to notify the kernel that we're ready.\n",
              "        channel.send({})\n",
              "        if (message.buffers) {\n",
              "          for (const buffer of message.buffers) {\n",
              "            buffers.push(buffer);\n",
              "            downloaded += buffer.byteLength;\n",
              "            progress.value = downloaded;\n",
              "          }\n",
              "        }\n",
              "      }\n",
              "      const blob = new Blob(buffers, {type: 'application/binary'});\n",
              "      const a = document.createElement('a');\n",
              "      a.href = window.URL.createObjectURL(blob);\n",
              "      a.download = filename;\n",
              "      div.appendChild(a);\n",
              "      a.click();\n",
              "      div.remove();\n",
              "    }\n",
              "  "
            ],
            "text/plain": [
              "<IPython.core.display.Javascript object>"
            ]
          },
          "metadata": {
            "tags": []
          }
        },
        {
          "output_type": "display_data",
          "data": {
            "application/javascript": [
              "download(\"download_b70e54a2-ecaa-4756-aea6-a07bc9a880d0\", \"random_set.dat\", 15914)"
            ],
            "text/plain": [
              "<IPython.core.display.Javascript object>"
            ]
          },
          "metadata": {
            "tags": []
          }
        }
      ]
    }
  ]
}